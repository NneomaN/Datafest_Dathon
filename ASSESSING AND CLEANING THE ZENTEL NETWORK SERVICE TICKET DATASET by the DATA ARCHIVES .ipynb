{
 "cells": [
  {
   "cell_type": "markdown",
   "id": "2b7ab3e6",
   "metadata": {},
   "source": [
    "# ASSESSING AND CLEANING THE ZENTEL NETWORK SERVICE TICKET DATASET "
   ]
  },
  {
   "cell_type": "markdown",
   "id": "36f0f044",
   "metadata": {},
   "source": [
    "## by members of the DATA ARCHIVES"
   ]
  },
  {
   "cell_type": "markdown",
   "id": "6eb7a94d",
   "metadata": {},
   "source": [
    "### INTRODUCTION "
   ]
  },
  {
   "cell_type": "markdown",
   "id": "ab3fc419",
   "metadata": {},
   "source": [
    "This is data from a Zentel Network Service center.\n",
    "\n",
    "Every day, customers log their different types of complaints across their branches and expect\n",
    "quick responses and resolutions to their queries.\n",
    "\n",
    "Some of these customers have a Service level agreement with the Network service provider to\n",
    "resolve their daily queries within a particular average duration.\n",
    "\n",
    "This service center has different Managers and operators looking into the customers' issues and\n",
    "Performance can be measured weekly and daily.\n",
    "\n",
    "\n",
    "\n",
    "Here's a link to the description of the different vaiables in the dataset https://github.com/PauloDaguvnor/DataFest-Datathon-Materials/blob/main/Datathon%20Casestudy.pdf"
   ]
  },
  {
   "cell_type": "markdown",
   "id": "b6388df7",
   "metadata": {},
   "source": [
    "### DATA ASSESSING AND CLEANING "
   ]
  },
  {
   "cell_type": "code",
   "execution_count": 6,
   "id": "a3fdb5cc",
   "metadata": {},
   "outputs": [],
   "source": [
    "import pandas as pd\n",
    "\n",
    "zentel = pd.read_excel('Zentel Network Service Ticket Data (1).xlsx')"
   ]
  },
  {
   "cell_type": "code",
   "execution_count": 7,
   "id": "3e3fedaa",
   "metadata": {},
   "outputs": [
    {
     "data": {
      "text/html": [
       "<div>\n",
       "<style scoped>\n",
       "    .dataframe tbody tr th:only-of-type {\n",
       "        vertical-align: middle;\n",
       "    }\n",
       "\n",
       "    .dataframe tbody tr th {\n",
       "        vertical-align: top;\n",
       "    }\n",
       "\n",
       "    .dataframe thead th {\n",
       "        text-align: right;\n",
       "    }\n",
       "</style>\n",
       "<table border=\"1\" class=\"dataframe\">\n",
       "  <thead>\n",
       "    <tr style=\"text-align: right;\">\n",
       "      <th></th>\n",
       "      <th>Report ID</th>\n",
       "      <th>Report Channel</th>\n",
       "      <th>Customer Name</th>\n",
       "      <th>State Key</th>\n",
       "      <th>Ticket Open Time</th>\n",
       "      <th>Ticket Resp Time</th>\n",
       "      <th>Issue Res Time</th>\n",
       "      <th>Fault Type</th>\n",
       "      <th>Operator</th>\n",
       "      <th>Ticket Close Time</th>\n",
       "      <th>Ticket Status</th>\n",
       "      <th>Business Status</th>\n",
       "    </tr>\n",
       "  </thead>\n",
       "  <tbody>\n",
       "    <tr>\n",
       "      <th>0</th>\n",
       "      <td>AXA-20201231-1101-WLESS</td>\n",
       "      <td>CH01</td>\n",
       "      <td>Access</td>\n",
       "      <td>NGS001</td>\n",
       "      <td>2020-12-31 17:07:04</td>\n",
       "      <td>2020-12-31 17:10:20</td>\n",
       "      <td>2020-12-31 20:44:42</td>\n",
       "      <td>NaN</td>\n",
       "      <td>Tunde</td>\n",
       "      <td></td>\n",
       "      <td>Active</td>\n",
       "      <td>Open</td>\n",
       "    </tr>\n",
       "    <tr>\n",
       "      <th>1</th>\n",
       "      <td>AXA-20201230-1102-WLESS</td>\n",
       "      <td>CH01</td>\n",
       "      <td>Access</td>\n",
       "      <td>NGS001</td>\n",
       "      <td>2020-12-30 19:04:06</td>\n",
       "      <td>2020-12-30 19:13:18</td>\n",
       "      <td>2020-12-30 19:46:30</td>\n",
       "      <td>Customers End</td>\n",
       "      <td>Sekina</td>\n",
       "      <td>2021-01-01 13:27:17</td>\n",
       "      <td>Completed</td>\n",
       "      <td>Closed</td>\n",
       "    </tr>\n",
       "    <tr>\n",
       "      <th>2</th>\n",
       "      <td>AXA-20201229-1103-WLESS</td>\n",
       "      <td>CH01</td>\n",
       "      <td>Access</td>\n",
       "      <td>NGS001</td>\n",
       "      <td>2020-12-29 18:28:04</td>\n",
       "      <td>2020-12-29 18:37:52</td>\n",
       "      <td>2020-12-29 20:10:11</td>\n",
       "      <td>Customers End</td>\n",
       "      <td>Sherifat</td>\n",
       "      <td>2020-12-30 13:20:43</td>\n",
       "      <td>Completed</td>\n",
       "      <td>Closed</td>\n",
       "    </tr>\n",
       "    <tr>\n",
       "      <th>3</th>\n",
       "      <td>AXA-20201229-1104-HSE</td>\n",
       "      <td>CH01</td>\n",
       "      <td>Arik</td>\n",
       "      <td>NGS002</td>\n",
       "      <td>2020-12-29 14:49:16</td>\n",
       "      <td>2020-12-29 14:58:23</td>\n",
       "      <td>2020-12-29 16:03:56</td>\n",
       "      <td>Line damage</td>\n",
       "      <td>Kingsley</td>\n",
       "      <td>2020-12-29 21:34:31</td>\n",
       "      <td>Completed</td>\n",
       "      <td>Closed</td>\n",
       "    </tr>\n",
       "    <tr>\n",
       "      <th>4</th>\n",
       "      <td>AXA-20201231-1105-HSE</td>\n",
       "      <td>CH01</td>\n",
       "      <td>Arik</td>\n",
       "      <td>NGS003</td>\n",
       "      <td>2020-12-31 21:43:03</td>\n",
       "      <td>2020-12-31 21:47:39</td>\n",
       "      <td>2020-12-31 22:20:58</td>\n",
       "      <td>Customers End</td>\n",
       "      <td>Kola</td>\n",
       "      <td>2021-01-02 06:54:01</td>\n",
       "      <td>Completed</td>\n",
       "      <td>Closed</td>\n",
       "    </tr>\n",
       "  </tbody>\n",
       "</table>\n",
       "</div>"
      ],
      "text/plain": [
       "                 Report ID Report Channel Customer Name State Key  \\\n",
       "0  AXA-20201231-1101-WLESS           CH01        Access    NGS001   \n",
       "1  AXA-20201230-1102-WLESS           CH01        Access    NGS001   \n",
       "2  AXA-20201229-1103-WLESS           CH01        Access    NGS001   \n",
       "3    AXA-20201229-1104-HSE           CH01          Arik    NGS002   \n",
       "4    AXA-20201231-1105-HSE           CH01          Arik    NGS003   \n",
       "\n",
       "     Ticket Open Time    Ticket Resp Time      Issue Res Time     Fault Type  \\\n",
       "0 2020-12-31 17:07:04 2020-12-31 17:10:20 2020-12-31 20:44:42            NaN   \n",
       "1 2020-12-30 19:04:06 2020-12-30 19:13:18 2020-12-30 19:46:30  Customers End   \n",
       "2 2020-12-29 18:28:04 2020-12-29 18:37:52 2020-12-29 20:10:11  Customers End   \n",
       "3 2020-12-29 14:49:16 2020-12-29 14:58:23 2020-12-29 16:03:56    Line damage   \n",
       "4 2020-12-31 21:43:03 2020-12-31 21:47:39 2020-12-31 22:20:58  Customers End   \n",
       "\n",
       "   Operator    Ticket Close Time Ticket Status Business Status  \n",
       "0     Tunde                             Active            Open  \n",
       "1    Sekina  2021-01-01 13:27:17     Completed          Closed  \n",
       "2  Sherifat  2020-12-30 13:20:43     Completed          Closed  \n",
       "3  Kingsley  2020-12-29 21:34:31     Completed          Closed  \n",
       "4      Kola  2021-01-02 06:54:01     Completed          Closed  "
      ]
     },
     "execution_count": 7,
     "metadata": {},
     "output_type": "execute_result"
    }
   ],
   "source": [
    "zentel.head()"
   ]
  },
  {
   "cell_type": "code",
   "execution_count": 8,
   "id": "604698e5",
   "metadata": {},
   "outputs": [
    {
     "name": "stdout",
     "output_type": "stream",
     "text": [
      "<class 'pandas.core.frame.DataFrame'>\n",
      "RangeIndex: 5998 entries, 0 to 5997\n",
      "Data columns (total 12 columns):\n",
      " #   Column             Non-Null Count  Dtype         \n",
      "---  ------             --------------  -----         \n",
      " 0   Report ID          5998 non-null   object        \n",
      " 1   Report Channel     5998 non-null   object        \n",
      " 2   Customer Name      5998 non-null   object        \n",
      " 3   State Key          5998 non-null   object        \n",
      " 4   Ticket Open Time   5998 non-null   datetime64[ns]\n",
      " 5   Ticket Resp Time   5998 non-null   datetime64[ns]\n",
      " 6   Issue Res Time     5998 non-null   datetime64[ns]\n",
      " 7   Fault Type         5472 non-null   object        \n",
      " 8   Operator           5998 non-null   object        \n",
      " 9   Ticket Close Time  5998 non-null   object        \n",
      " 10  Ticket Status      5998 non-null   object        \n",
      " 11  Business Status    5998 non-null   object        \n",
      "dtypes: datetime64[ns](3), object(9)\n",
      "memory usage: 562.4+ KB\n"
     ]
    }
   ],
   "source": [
    "zentel.info()"
   ]
  },
  {
   "cell_type": "markdown",
   "id": "d0b0c640",
   "metadata": {},
   "source": [
    "We observed that there were missing value in the 'Fault Type' column. \n",
    "\n",
    "After assessing it properly using Microsoft excel, we observed that most times the fault issues reported through the same channel, the same state and approximately at the same time were the same so we filled up the **N/A** values using this insight we've gained. "
   ]
  },
  {
   "cell_type": "markdown",
   "id": "63710113",
   "metadata": {},
   "source": [
    "The changes were made right there in Microsoft excel in order to save time but here is the cleaned dataset below "
   ]
  },
  {
   "cell_type": "code",
   "execution_count": 9,
   "id": "6d7c1733",
   "metadata": {},
   "outputs": [],
   "source": [
    "zentel_cleaned  = pd.read_excel('Zentel Network Service Ticket Data cleaned.xlsx')"
   ]
  },
  {
   "cell_type": "code",
   "execution_count": 10,
   "id": "aa2cd80e",
   "metadata": {},
   "outputs": [
    {
     "data": {
      "text/html": [
       "<div>\n",
       "<style scoped>\n",
       "    .dataframe tbody tr th:only-of-type {\n",
       "        vertical-align: middle;\n",
       "    }\n",
       "\n",
       "    .dataframe tbody tr th {\n",
       "        vertical-align: top;\n",
       "    }\n",
       "\n",
       "    .dataframe thead th {\n",
       "        text-align: right;\n",
       "    }\n",
       "</style>\n",
       "<table border=\"1\" class=\"dataframe\">\n",
       "  <thead>\n",
       "    <tr style=\"text-align: right;\">\n",
       "      <th></th>\n",
       "      <th>Report ID</th>\n",
       "      <th>Report Channel</th>\n",
       "      <th>Customer Name</th>\n",
       "      <th>State Key</th>\n",
       "      <th>Ticket Open Time</th>\n",
       "      <th>Ticket Resp Time</th>\n",
       "      <th>Issue Res Time</th>\n",
       "      <th>Fault Type</th>\n",
       "      <th>Operator</th>\n",
       "      <th>Ticket Close Time</th>\n",
       "      <th>Ticket Status</th>\n",
       "      <th>Business Status</th>\n",
       "    </tr>\n",
       "  </thead>\n",
       "  <tbody>\n",
       "    <tr>\n",
       "      <th>0</th>\n",
       "      <td>AXA-20201231-1101-WLESS</td>\n",
       "      <td>CH01</td>\n",
       "      <td>Access</td>\n",
       "      <td>NGS001</td>\n",
       "      <td>2020-12-31 17:07:04</td>\n",
       "      <td>2020-12-31 17:10:20</td>\n",
       "      <td>2020-12-31 20:44:42</td>\n",
       "      <td>Customers End</td>\n",
       "      <td>Tunde</td>\n",
       "      <td></td>\n",
       "      <td>Active</td>\n",
       "      <td>Open</td>\n",
       "    </tr>\n",
       "    <tr>\n",
       "      <th>1</th>\n",
       "      <td>AXA-20201230-1102-WLESS</td>\n",
       "      <td>CH01</td>\n",
       "      <td>Access</td>\n",
       "      <td>NGS001</td>\n",
       "      <td>2020-12-30 19:04:06</td>\n",
       "      <td>2020-12-30 19:13:18</td>\n",
       "      <td>2020-12-30 19:46:30</td>\n",
       "      <td>Customers End</td>\n",
       "      <td>Sekina</td>\n",
       "      <td>2021-01-01 13:27:17</td>\n",
       "      <td>Completed</td>\n",
       "      <td>Closed</td>\n",
       "    </tr>\n",
       "    <tr>\n",
       "      <th>2</th>\n",
       "      <td>AXA-20201229-1103-WLESS</td>\n",
       "      <td>CH01</td>\n",
       "      <td>Access</td>\n",
       "      <td>NGS001</td>\n",
       "      <td>2020-12-29 18:28:04</td>\n",
       "      <td>2020-12-29 18:37:52</td>\n",
       "      <td>2020-12-29 20:10:11</td>\n",
       "      <td>Customers End</td>\n",
       "      <td>Sherifat</td>\n",
       "      <td>2020-12-30 13:20:43</td>\n",
       "      <td>Completed</td>\n",
       "      <td>Closed</td>\n",
       "    </tr>\n",
       "    <tr>\n",
       "      <th>3</th>\n",
       "      <td>AXA-20201229-1104-HSE</td>\n",
       "      <td>CH01</td>\n",
       "      <td>Arik</td>\n",
       "      <td>NGS002</td>\n",
       "      <td>2020-12-29 14:49:16</td>\n",
       "      <td>2020-12-29 14:58:23</td>\n",
       "      <td>2020-12-29 16:03:56</td>\n",
       "      <td>Line damage</td>\n",
       "      <td>Kingsley</td>\n",
       "      <td>2020-12-29 21:34:31</td>\n",
       "      <td>Completed</td>\n",
       "      <td>Closed</td>\n",
       "    </tr>\n",
       "    <tr>\n",
       "      <th>4</th>\n",
       "      <td>AXA-20201231-1105-HSE</td>\n",
       "      <td>CH01</td>\n",
       "      <td>Arik</td>\n",
       "      <td>NGS003</td>\n",
       "      <td>2020-12-31 21:43:03</td>\n",
       "      <td>2020-12-31 21:47:39</td>\n",
       "      <td>2020-12-31 22:20:58</td>\n",
       "      <td>Customers End</td>\n",
       "      <td>Kola</td>\n",
       "      <td>2021-01-02 06:54:01</td>\n",
       "      <td>Completed</td>\n",
       "      <td>Closed</td>\n",
       "    </tr>\n",
       "  </tbody>\n",
       "</table>\n",
       "</div>"
      ],
      "text/plain": [
       "                 Report ID Report Channel Customer Name State Key  \\\n",
       "0  AXA-20201231-1101-WLESS           CH01        Access    NGS001   \n",
       "1  AXA-20201230-1102-WLESS           CH01        Access    NGS001   \n",
       "2  AXA-20201229-1103-WLESS           CH01        Access    NGS001   \n",
       "3    AXA-20201229-1104-HSE           CH01          Arik    NGS002   \n",
       "4    AXA-20201231-1105-HSE           CH01          Arik    NGS003   \n",
       "\n",
       "     Ticket Open Time    Ticket Resp Time      Issue Res Time     Fault Type  \\\n",
       "0 2020-12-31 17:07:04 2020-12-31 17:10:20 2020-12-31 20:44:42  Customers End   \n",
       "1 2020-12-30 19:04:06 2020-12-30 19:13:18 2020-12-30 19:46:30  Customers End   \n",
       "2 2020-12-29 18:28:04 2020-12-29 18:37:52 2020-12-29 20:10:11  Customers End   \n",
       "3 2020-12-29 14:49:16 2020-12-29 14:58:23 2020-12-29 16:03:56    Line damage   \n",
       "4 2020-12-31 21:43:03 2020-12-31 21:47:39 2020-12-31 22:20:58  Customers End   \n",
       "\n",
       "   Operator    Ticket Close Time Ticket Status Business Status  \n",
       "0     Tunde                             Active            Open  \n",
       "1    Sekina  2021-01-01 13:27:17     Completed          Closed  \n",
       "2  Sherifat  2020-12-30 13:20:43     Completed          Closed  \n",
       "3  Kingsley  2020-12-29 21:34:31     Completed          Closed  \n",
       "4      Kola  2021-01-02 06:54:01     Completed          Closed  "
      ]
     },
     "execution_count": 10,
     "metadata": {},
     "output_type": "execute_result"
    }
   ],
   "source": [
    "zentel_cleaned.head()"
   ]
  },
  {
   "cell_type": "markdown",
   "id": "0b83886d",
   "metadata": {},
   "source": [
    "Now, the next thing we changed was the datatypes of one of the columns  "
   ]
  },
  {
   "cell_type": "code",
   "execution_count": 12,
   "id": "8c8b7560",
   "metadata": {},
   "outputs": [
    {
     "name": "stdout",
     "output_type": "stream",
     "text": [
      "<class 'pandas.core.frame.DataFrame'>\n",
      "RangeIndex: 5998 entries, 0 to 5997\n",
      "Data columns (total 12 columns):\n",
      " #   Column             Non-Null Count  Dtype         \n",
      "---  ------             --------------  -----         \n",
      " 0   Report ID          5998 non-null   object        \n",
      " 1   Report Channel     5998 non-null   object        \n",
      " 2   Customer Name      5998 non-null   object        \n",
      " 3   State Key          5998 non-null   object        \n",
      " 4   Ticket Open Time   5998 non-null   datetime64[ns]\n",
      " 5   Ticket Resp Time   5998 non-null   datetime64[ns]\n",
      " 6   Issue Res Time     5998 non-null   datetime64[ns]\n",
      " 7   Fault Type         5998 non-null   object        \n",
      " 8   Operator           5998 non-null   object        \n",
      " 9   Ticket Close Time  5998 non-null   object        \n",
      " 10  Ticket Status      5998 non-null   object        \n",
      " 11  Business Status    5998 non-null   object        \n",
      "dtypes: datetime64[ns](3), object(9)\n",
      "memory usage: 562.4+ KB\n"
     ]
    }
   ],
   "source": [
    "zentel_cleaned.info()"
   ]
  },
  {
   "cell_type": "markdown",
   "id": "ab559820",
   "metadata": {},
   "source": [
    "There isn't any more null values\n",
    "\n",
    "The rest of the work was done using **MICROSOFT POWER-BI**"
   ]
  }
 ],
 "metadata": {
  "kernelspec": {
   "display_name": "Python 3 (ipykernel)",
   "language": "python",
   "name": "python3"
  },
  "language_info": {
   "codemirror_mode": {
    "name": "ipython",
    "version": 3
   },
   "file_extension": ".py",
   "mimetype": "text/x-python",
   "name": "python",
   "nbconvert_exporter": "python",
   "pygments_lexer": "ipython3",
   "version": "3.10.4"
  }
 },
 "nbformat": 4,
 "nbformat_minor": 5
}
